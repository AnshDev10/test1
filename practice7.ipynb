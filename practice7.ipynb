{
 "cells": [
  {
   "cell_type": "code",
   "execution_count": 4,
   "metadata": {},
   "outputs": [],
   "source": [
    "import ipywidgets as w"
   ]
  },
  {
   "cell_type": "code",
   "execution_count": 5,
   "metadata": {},
   "outputs": [
    {
     "data": {
      "application/vnd.jupyter.widget-view+json": {
       "model_id": "b7cf84fa31ec4ab683e24563ff0d92c7",
       "version_major": 2,
       "version_minor": 0
      },
      "text/plain": [
       "Button(description='submit', style=ButtonStyle())"
      ]
     },
     "metadata": {},
     "output_type": "display_data"
    },
    {
     "name": "stdout",
     "output_type": "stream",
     "text": [
      "helloworld\n"
     ]
    }
   ],
   "source": [
    "def greet(self):\n",
    "    print(\"helloworld\")\n",
    "h=w.Button(description=\"submit\")\n",
    "h.on_click(greet)\n",
    "display(h)"
   ]
  },
  {
   "cell_type": "code",
   "execution_count": 6,
   "metadata": {},
   "outputs": [
    {
     "data": {
      "application/vnd.jupyter.widget-view+json": {
       "model_id": "016ad12be72c4f0ca41f968c40477b7c",
       "version_major": 2,
       "version_minor": 0
      },
      "text/plain": [
       "VBox(children=(HTML(value='<H1>Application Form</H1>'), Text(value='', description='Name:'), DatePicker(value=…"
      ]
     },
     "metadata": {},
     "output_type": "display_data"
    }
   ],
   "source": [
    "import ipywidgets as w\n",
    "a1=w.HTML(\"<H1>Application Form</H1>\")\n",
    "b1=w.Text(description=\"Name:\")\n",
    "c1=w.DatePicker(description=\"Date of Birth\")\n",
    "d1=w.RadioButtons(description=\"Gender\",options=[\"Male\",\"Female\"])\n",
    "e1=w.Text(description=\"F.N:\",value=\"Name\")\n",
    "f1=w.Text(description=\"School\")\n",
    "g1=w.Textarea(description=\"Address\")\n",
    "h1=w.Button(description=\"Submit\")\n",
    "h4=w.Button(description=\"Export\")\n",
    "h3=w.Textarea(description=\"values\")\n",
    "display(w.VBox([a1,b1,c1,d1,e1,f1,g1,h1,h4]))"
   ]
  },
  {
   "cell_type": "code",
   "execution_count": null,
   "metadata": {},
   "outputs": [],
   "source": []
  }
 ],
 "metadata": {
  "kernelspec": {
   "display_name": "Python 3",
   "language": "python",
   "name": "python3"
  },
  "language_info": {
   "codemirror_mode": {
    "name": "ipython",
    "version": 3
   },
   "file_extension": ".py",
   "mimetype": "text/x-python",
   "name": "python",
   "nbconvert_exporter": "python",
   "pygments_lexer": "ipython3",
   "version": "3.8.3"
  }
 },
 "nbformat": 4,
 "nbformat_minor": 4
}
